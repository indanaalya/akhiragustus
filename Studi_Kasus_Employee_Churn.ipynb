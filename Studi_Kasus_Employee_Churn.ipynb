{
  "cells": [
    {
      "cell_type": "markdown",
      "metadata": {
        "id": "view-in-github",
        "colab_type": "text"
      },
      "source": [
        "<a href=\"https://colab.research.google.com/github/indanaalya/akhiragustus/blob/main/Studi_Kasus_Employee_Churn.ipynb\" target=\"_parent\"><img src=\"https://colab.research.google.com/assets/colab-badge.svg\" alt=\"Open In Colab\"/></a>"
      ]
    },
    {
      "cell_type": "markdown",
      "id": "77916db9",
      "metadata": {
        "id": "77916db9"
      },
      "source": [
        "## Studi Kasus Employee Churn"
      ]
    },
    {
      "cell_type": "code",
      "execution_count": null,
      "id": "50d0a92a",
      "metadata": {
        "id": "50d0a92a"
      },
      "outputs": [],
      "source": [
        "import pandas as pd\n",
        "import numpy as np\n",
        "import matplotlib.pyplot as plt\n",
        "import seaborn as sns"
      ]
    },
    {
      "cell_type": "code",
      "execution_count": null,
      "id": "50285386",
      "metadata": {
        "colab": {
          "base_uri": "https://localhost:8080/",
          "height": 424
        },
        "id": "50285386",
        "outputId": "a5960b21-27d0-42f3-a3b3-1b107f126b56"
      },
      "outputs": [
        {
          "output_type": "execute_result",
          "data": {
            "text/plain": [
              "      office_distance_from_house  bonus_salary_percentage  job_satisfaction  \\\n",
              "0                         8511.0                    42.51               1.0   \n",
              "1                        10090.0                    57.48               2.0   \n",
              "2                        18652.0                    41.22               2.0   \n",
              "3                        13392.0                    63.57               3.0   \n",
              "4                        13356.0                    46.16               2.0   \n",
              "...                          ...                      ...               ...   \n",
              "1028                     12972.0                    73.90               2.0   \n",
              "1029                      7881.0                    37.09               2.0   \n",
              "1030                     12003.0                    66.86               1.0   \n",
              "1031                      9843.0                    52.03               2.0   \n",
              "1032                     16330.0                    54.31               3.0   \n",
              "\n",
              "       education_level  overtime_hour  company_latitude  company_longitude  \\\n",
              "0     bachelor/diploma       3.416556         33.309014         -93.330348   \n",
              "1     bachelor/diploma       2.897149         37.678983         -98.968097   \n",
              "2     bachelor/diploma       3.180264         37.175891         -77.442812   \n",
              "3     bachelor/diploma       3.429648         44.408084         -85.703296   \n",
              "4     bachelor/diploma       3.812226         41.454702         -81.404655   \n",
              "...                ...            ...               ...                ...   \n",
              "1028  bachelor/diploma       2.661765         44.070087         -91.305675   \n",
              "1029    masters degree       2.518952         33.188727         -79.078901   \n",
              "1030    masters degree       4.882591         39.208364         -93.532059   \n",
              "1031    masters degree       3.829853         37.376921         -90.193134   \n",
              "1032  bachelor/diploma       4.102752         38.253671         -87.351823   \n",
              "\n",
              "      gender  churn  \n",
              "0          0      0  \n",
              "1          0      0  \n",
              "2          1      1  \n",
              "3          0      0  \n",
              "4          1      1  \n",
              "...      ...    ...  \n",
              "1028       0      0  \n",
              "1029       0      1  \n",
              "1030       0      0  \n",
              "1031       0      0  \n",
              "1032       1      0  \n",
              "\n",
              "[1033 rows x 9 columns]"
            ],
            "text/html": [
              "\n",
              "  <div id=\"df-80a9ec77-1c55-485d-b35c-6f3db1094d98\">\n",
              "    <div class=\"colab-df-container\">\n",
              "      <div>\n",
              "<style scoped>\n",
              "    .dataframe tbody tr th:only-of-type {\n",
              "        vertical-align: middle;\n",
              "    }\n",
              "\n",
              "    .dataframe tbody tr th {\n",
              "        vertical-align: top;\n",
              "    }\n",
              "\n",
              "    .dataframe thead th {\n",
              "        text-align: right;\n",
              "    }\n",
              "</style>\n",
              "<table border=\"1\" class=\"dataframe\">\n",
              "  <thead>\n",
              "    <tr style=\"text-align: right;\">\n",
              "      <th></th>\n",
              "      <th>office_distance_from_house</th>\n",
              "      <th>bonus_salary_percentage</th>\n",
              "      <th>job_satisfaction</th>\n",
              "      <th>education_level</th>\n",
              "      <th>overtime_hour</th>\n",
              "      <th>company_latitude</th>\n",
              "      <th>company_longitude</th>\n",
              "      <th>gender</th>\n",
              "      <th>churn</th>\n",
              "    </tr>\n",
              "  </thead>\n",
              "  <tbody>\n",
              "    <tr>\n",
              "      <th>0</th>\n",
              "      <td>8511.0</td>\n",
              "      <td>42.51</td>\n",
              "      <td>1.0</td>\n",
              "      <td>bachelor/diploma</td>\n",
              "      <td>3.416556</td>\n",
              "      <td>33.309014</td>\n",
              "      <td>-93.330348</td>\n",
              "      <td>0</td>\n",
              "      <td>0</td>\n",
              "    </tr>\n",
              "    <tr>\n",
              "      <th>1</th>\n",
              "      <td>10090.0</td>\n",
              "      <td>57.48</td>\n",
              "      <td>2.0</td>\n",
              "      <td>bachelor/diploma</td>\n",
              "      <td>2.897149</td>\n",
              "      <td>37.678983</td>\n",
              "      <td>-98.968097</td>\n",
              "      <td>0</td>\n",
              "      <td>0</td>\n",
              "    </tr>\n",
              "    <tr>\n",
              "      <th>2</th>\n",
              "      <td>18652.0</td>\n",
              "      <td>41.22</td>\n",
              "      <td>2.0</td>\n",
              "      <td>bachelor/diploma</td>\n",
              "      <td>3.180264</td>\n",
              "      <td>37.175891</td>\n",
              "      <td>-77.442812</td>\n",
              "      <td>1</td>\n",
              "      <td>1</td>\n",
              "    </tr>\n",
              "    <tr>\n",
              "      <th>3</th>\n",
              "      <td>13392.0</td>\n",
              "      <td>63.57</td>\n",
              "      <td>3.0</td>\n",
              "      <td>bachelor/diploma</td>\n",
              "      <td>3.429648</td>\n",
              "      <td>44.408084</td>\n",
              "      <td>-85.703296</td>\n",
              "      <td>0</td>\n",
              "      <td>0</td>\n",
              "    </tr>\n",
              "    <tr>\n",
              "      <th>4</th>\n",
              "      <td>13356.0</td>\n",
              "      <td>46.16</td>\n",
              "      <td>2.0</td>\n",
              "      <td>bachelor/diploma</td>\n",
              "      <td>3.812226</td>\n",
              "      <td>41.454702</td>\n",
              "      <td>-81.404655</td>\n",
              "      <td>1</td>\n",
              "      <td>1</td>\n",
              "    </tr>\n",
              "    <tr>\n",
              "      <th>...</th>\n",
              "      <td>...</td>\n",
              "      <td>...</td>\n",
              "      <td>...</td>\n",
              "      <td>...</td>\n",
              "      <td>...</td>\n",
              "      <td>...</td>\n",
              "      <td>...</td>\n",
              "      <td>...</td>\n",
              "      <td>...</td>\n",
              "    </tr>\n",
              "    <tr>\n",
              "      <th>1028</th>\n",
              "      <td>12972.0</td>\n",
              "      <td>73.90</td>\n",
              "      <td>2.0</td>\n",
              "      <td>bachelor/diploma</td>\n",
              "      <td>2.661765</td>\n",
              "      <td>44.070087</td>\n",
              "      <td>-91.305675</td>\n",
              "      <td>0</td>\n",
              "      <td>0</td>\n",
              "    </tr>\n",
              "    <tr>\n",
              "      <th>1029</th>\n",
              "      <td>7881.0</td>\n",
              "      <td>37.09</td>\n",
              "      <td>2.0</td>\n",
              "      <td>masters degree</td>\n",
              "      <td>2.518952</td>\n",
              "      <td>33.188727</td>\n",
              "      <td>-79.078901</td>\n",
              "      <td>0</td>\n",
              "      <td>1</td>\n",
              "    </tr>\n",
              "    <tr>\n",
              "      <th>1030</th>\n",
              "      <td>12003.0</td>\n",
              "      <td>66.86</td>\n",
              "      <td>1.0</td>\n",
              "      <td>masters degree</td>\n",
              "      <td>4.882591</td>\n",
              "      <td>39.208364</td>\n",
              "      <td>-93.532059</td>\n",
              "      <td>0</td>\n",
              "      <td>0</td>\n",
              "    </tr>\n",
              "    <tr>\n",
              "      <th>1031</th>\n",
              "      <td>9843.0</td>\n",
              "      <td>52.03</td>\n",
              "      <td>2.0</td>\n",
              "      <td>masters degree</td>\n",
              "      <td>3.829853</td>\n",
              "      <td>37.376921</td>\n",
              "      <td>-90.193134</td>\n",
              "      <td>0</td>\n",
              "      <td>0</td>\n",
              "    </tr>\n",
              "    <tr>\n",
              "      <th>1032</th>\n",
              "      <td>16330.0</td>\n",
              "      <td>54.31</td>\n",
              "      <td>3.0</td>\n",
              "      <td>bachelor/diploma</td>\n",
              "      <td>4.102752</td>\n",
              "      <td>38.253671</td>\n",
              "      <td>-87.351823</td>\n",
              "      <td>1</td>\n",
              "      <td>0</td>\n",
              "    </tr>\n",
              "  </tbody>\n",
              "</table>\n",
              "<p>1033 rows × 9 columns</p>\n",
              "</div>\n",
              "      <button class=\"colab-df-convert\" onclick=\"convertToInteractive('df-80a9ec77-1c55-485d-b35c-6f3db1094d98')\"\n",
              "              title=\"Convert this dataframe to an interactive table.\"\n",
              "              style=\"display:none;\">\n",
              "        \n",
              "  <svg xmlns=\"http://www.w3.org/2000/svg\" height=\"24px\"viewBox=\"0 0 24 24\"\n",
              "       width=\"24px\">\n",
              "    <path d=\"M0 0h24v24H0V0z\" fill=\"none\"/>\n",
              "    <path d=\"M18.56 5.44l.94 2.06.94-2.06 2.06-.94-2.06-.94-.94-2.06-.94 2.06-2.06.94zm-11 1L8.5 8.5l.94-2.06 2.06-.94-2.06-.94L8.5 2.5l-.94 2.06-2.06.94zm10 10l.94 2.06.94-2.06 2.06-.94-2.06-.94-.94-2.06-.94 2.06-2.06.94z\"/><path d=\"M17.41 7.96l-1.37-1.37c-.4-.4-.92-.59-1.43-.59-.52 0-1.04.2-1.43.59L10.3 9.45l-7.72 7.72c-.78.78-.78 2.05 0 2.83L4 21.41c.39.39.9.59 1.41.59.51 0 1.02-.2 1.41-.59l7.78-7.78 2.81-2.81c.8-.78.8-2.07 0-2.86zM5.41 20L4 18.59l7.72-7.72 1.47 1.35L5.41 20z\"/>\n",
              "  </svg>\n",
              "      </button>\n",
              "      \n",
              "  <style>\n",
              "    .colab-df-container {\n",
              "      display:flex;\n",
              "      flex-wrap:wrap;\n",
              "      gap: 12px;\n",
              "    }\n",
              "\n",
              "    .colab-df-convert {\n",
              "      background-color: #E8F0FE;\n",
              "      border: none;\n",
              "      border-radius: 50%;\n",
              "      cursor: pointer;\n",
              "      display: none;\n",
              "      fill: #1967D2;\n",
              "      height: 32px;\n",
              "      padding: 0 0 0 0;\n",
              "      width: 32px;\n",
              "    }\n",
              "\n",
              "    .colab-df-convert:hover {\n",
              "      background-color: #E2EBFA;\n",
              "      box-shadow: 0px 1px 2px rgba(60, 64, 67, 0.3), 0px 1px 3px 1px rgba(60, 64, 67, 0.15);\n",
              "      fill: #174EA6;\n",
              "    }\n",
              "\n",
              "    [theme=dark] .colab-df-convert {\n",
              "      background-color: #3B4455;\n",
              "      fill: #D2E3FC;\n",
              "    }\n",
              "\n",
              "    [theme=dark] .colab-df-convert:hover {\n",
              "      background-color: #434B5C;\n",
              "      box-shadow: 0px 1px 3px 1px rgba(0, 0, 0, 0.15);\n",
              "      filter: drop-shadow(0px 1px 2px rgba(0, 0, 0, 0.3));\n",
              "      fill: #FFFFFF;\n",
              "    }\n",
              "  </style>\n",
              "\n",
              "      <script>\n",
              "        const buttonEl =\n",
              "          document.querySelector('#df-80a9ec77-1c55-485d-b35c-6f3db1094d98 button.colab-df-convert');\n",
              "        buttonEl.style.display =\n",
              "          google.colab.kernel.accessAllowed ? 'block' : 'none';\n",
              "\n",
              "        async function convertToInteractive(key) {\n",
              "          const element = document.querySelector('#df-80a9ec77-1c55-485d-b35c-6f3db1094d98');\n",
              "          const dataTable =\n",
              "            await google.colab.kernel.invokeFunction('convertToInteractive',\n",
              "                                                     [key], {});\n",
              "          if (!dataTable) return;\n",
              "\n",
              "          const docLinkHtml = 'Like what you see? Visit the ' +\n",
              "            '<a target=\"_blank\" href=https://colab.research.google.com/notebooks/data_table.ipynb>data table notebook</a>'\n",
              "            + ' to learn more about interactive tables.';\n",
              "          element.innerHTML = '';\n",
              "          dataTable['output_type'] = 'display_data';\n",
              "          await google.colab.output.renderOutput(dataTable, element);\n",
              "          const docLink = document.createElement('div');\n",
              "          docLink.innerHTML = docLinkHtml;\n",
              "          element.appendChild(docLink);\n",
              "        }\n",
              "      </script>\n",
              "    </div>\n",
              "  </div>\n",
              "  "
            ]
          },
          "metadata": {},
          "execution_count": 3
        }
      ],
      "source": [
        "df = pd.read_csv('employee_churn.csv')\n",
        "df"
      ]
    },
    {
      "cell_type": "markdown",
      "id": "2334093d",
      "metadata": {
        "id": "2334093d"
      },
      "source": [
        "Analisis Employee Churn adalah sebuah studi terhadap tingkat 'churn' dari karyawan perusahaan. Employee (karyawan) dibilang 'Churn' ketika karyawan tersebut pindah kerja ke kantor lain (berhenti bekerja di kantor asal). Secara garis besar, perusahaan-perusahaan ingin bisa 'memprediksi' employee mana yang akan 'churn', supaya bisa melakukan antisipasi agar employee tersebut tidak jadi 'churn'. Mengapa? Karena...lebih besar ongkos yang dikeluarkan untuk mencari & merekrut karyawan baru, melatih mereka dari 0 lagi, ketimbang mempertahankan employee yang sudah ada. Oleh sebab itu, perusahaan-perusahaan ingin mempelajari faktor-faktor apa saja yang dapat dilihat untuk mengantisipasi 'churn' dari seorang employee. \n",
        "\n",
        "\n",
        "Setiap baris merepresentasi data dari seorang employee. \n",
        "\n",
        "Penjelasan setiap kolom:\n",
        "- `office_distance_from_house`: jarak (dalam meter) kantor ke rumah karyawan\n",
        "- `bonus_salary_percentage`: persentase bonus gaji yang diterima karyawan dalam 6 bulan terakhir\n",
        "- `job_satisfaction`: tingkat kepuasan kerja karyawan\n",
        "- `education_level`: tingkat pendidikan karyawan\n",
        "- `overtime_hour`: lama waktu lembur rata-rata (dalam jam)\n",
        "- `company_latitude`: koordinat garis lintang kantor pusat perusahaan\n",
        "- `company_longitude`: koordinat garis bujur kantor pusat perusahaan\n",
        "- `gender`: apabila 0, berarti perempuan, apabila 1, berarti laki-laki\n",
        "- `churn`: apabila 1, berarti Churn (si karyawan pindah), apabila 0, berarti tidak Churn (karyawan tidak pindah)"
      ]
    },
    {
      "cell_type": "markdown",
      "id": "6fc91e0d",
      "metadata": {
        "id": "6fc91e0d"
      },
      "source": [
        "### Soal:\n",
        "\n",
        "1. (30 POIN) Lakukan explorasi dan visualisasi data secara bebas dan tulislah (dalam poin-poin) insights yang Anda peroleh. Berikan minimal 7 poin-poin. \n",
        "2. (20 POIN) Lakukanlah data preparation yang diperlukan (misal: mengubah kolom kategorikal menjadi kolom numerikal, dst). Tuliskanlah langkah-langkah yang Anda lakukan dalam tahap ini. \n",
        "3. (20 POIN) Tentukan False Positive dan False Negative dari kasus ini. Mana yang lebih 'penting' untuk diperhatikan? Mana yang lebih 'penting' untuk kita hindari? False Positive, atau False Negative? \n",
        "4. (30 POIN) Buatlah Machine Learning Model untuk mengklasifikasikan apakah employee akan Churn atau tidak. Kolom 'target' adalah kolom 'Churn'. Evaluasi-lah machine learning model Anda, dan tentukanlah metrik-metrik yang tepat untuk mengukur akurasi dari machine learning model tersebut. \n",
        "\n",
        "### Petunjuk:\n",
        "\n",
        "1. Kerjakanlah pekerjaan kalian di bagian \"Tempat Mengerjakan\" (di bawah)\n",
        "2. Jawablah keempat soal di atas di bagian \"Jawaban\". "
      ]
    },
    {
      "cell_type": "markdown",
      "id": "c06d782a",
      "metadata": {
        "id": "c06d782a"
      },
      "source": [
        "#### Tempat Mengerjakan:"
      ]
    },
    {
      "cell_type": "code",
      "execution_count": null,
      "id": "fda6fa4b",
      "metadata": {
        "id": "fda6fa4b"
      },
      "outputs": [],
      "source": [
        "## silakan tambahkan lagi cell-cell jika dirasa kurang ##"
      ]
    },
    {
      "cell_type": "code",
      "execution_count": null,
      "id": "48c2e1a0",
      "metadata": {
        "colab": {
          "base_uri": "https://localhost:8080/"
        },
        "id": "48c2e1a0",
        "outputId": "7823355f-f163-4a53-eb88-1737316d0848"
      },
      "outputs": [
        {
          "output_type": "stream",
          "name": "stdout",
          "text": [
            "<class 'pandas.core.frame.DataFrame'>\n",
            "RangeIndex: 1033 entries, 0 to 1032\n",
            "Data columns (total 9 columns):\n",
            " #   Column                      Non-Null Count  Dtype  \n",
            "---  ------                      --------------  -----  \n",
            " 0   office_distance_from_house  1033 non-null   float64\n",
            " 1   bonus_salary_percentage     1033 non-null   float64\n",
            " 2   job_satisfaction            1033 non-null   float64\n",
            " 3   education_level             1033 non-null   object \n",
            " 4   overtime_hour               1033 non-null   float64\n",
            " 5   company_latitude            1033 non-null   float64\n",
            " 6   company_longitude           1033 non-null   float64\n",
            " 7   gender                      1033 non-null   int64  \n",
            " 8   churn                       1033 non-null   int64  \n",
            "dtypes: float64(6), int64(2), object(1)\n",
            "memory usage: 72.8+ KB\n"
          ]
        }
      ],
      "source": [
        "df.info()"
      ]
    },
    {
      "cell_type": "code",
      "execution_count": null,
      "id": "64a2d944",
      "metadata": {
        "colab": {
          "base_uri": "https://localhost:8080/"
        },
        "id": "64a2d944",
        "outputId": "d84dfb44-fc82-4a15-9b38-5e921e576c33"
      },
      "outputs": [
        {
          "output_type": "execute_result",
          "data": {
            "text/plain": [
              "office_distance_from_house    1000\n",
              "bonus_salary_percentage        923\n",
              "job_satisfaction                 6\n",
              "education_level                  4\n",
              "overtime_hour                 1033\n",
              "company_latitude              1033\n",
              "company_longitude             1033\n",
              "gender                           2\n",
              "churn                            2\n",
              "dtype: int64"
            ]
          },
          "metadata": {},
          "execution_count": 6
        }
      ],
      "source": [
        "df.nunique()"
      ]
    },
    {
      "cell_type": "code",
      "source": [
        "plt.figure(figsize=(16, 6))\n",
        "heatmap = sns.heatmap(df.corr(), vmin=-1, vmax=1, annot=True, cmap='BrBG')\n",
        "heatmap.set_title('Correlation Heatmap', fontdict={'fontsize':18}, pad=12);"
      ],
      "metadata": {
        "colab": {
          "base_uri": "https://localhost:8080/",
          "height": 529
        },
        "id": "TK_VX1ukzPF-",
        "outputId": "5dcd8903-f785-46a5-f7e4-9bb4810b169a"
      },
      "id": "TK_VX1ukzPF-",
      "execution_count": null,
      "outputs": [
        {
          "output_type": "display_data",
          "data": {
            "text/plain": [
              "<Figure size 1152x432 with 2 Axes>"
            ],
            "image/png": "[encoded data removed]"
          },
          "metadata": {
            "needs_background": "light"
          }
        }
      ]
    },
    {
      "cell_type": "markdown",
      "source": [
        "Ide Visualisasi\n",
        "1.   Analisis hubungan jarak ke kantor dengan churn\n",
        "2.   Analisis kepuasan kerja terhadap churn karyawan\n",
        "3. Hubungan bonus yang diterima dengan kepuasan kerja\n",
        "4. Analisis bonus salary dan churn\n",
        "5. Analisis overtime hour dengan job satisfaction\n",
        "6. gender terhadap churn\n",
        "\n",
        "\n"
      ],
      "metadata": {
        "id": "z9SrwwKbxuAJ"
      },
      "id": "z9SrwwKbxuAJ"
    },
    {
      "cell_type": "markdown",
      "source": [
        "# 1. Eksplorasi dan Visualisasi Data"
      ],
      "metadata": {
        "id": "EGyZlX-lzM6-"
      },
      "id": "EGyZlX-lzM6-"
    },
    {
      "cell_type": "markdown",
      "source": [
        "#### Kepuasan Kerja terhadap churn"
      ],
      "metadata": {
        "id": "IEgXW851zF5t"
      },
      "id": "IEgXW851zF5t"
    },
    {
      "cell_type": "code",
      "source": [
        "df.groupby(['job_satisfaction', 'churn'])['churn'].count()"
      ],
      "metadata": {
        "colab": {
          "base_uri": "https://localhost:8080/"
        },
        "id": "z0ZJYQZxD2Td",
        "outputId": "4ad58a82-b510-4029-c93c-310317a5e36d"
      },
      "id": "z0ZJYQZxD2Td",
      "execution_count": null,
      "outputs": [
        {
          "output_type": "execute_result",
          "data": {
            "text/plain": [
              "job_satisfaction  churn\n",
              "0.0               0          5\n",
              "                  1          2\n",
              "1.0               0         42\n",
              "                  1         82\n",
              "2.0               0        176\n",
              "                  1        207\n",
              "3.0               0        390\n",
              "                  1         18\n",
              "4.0               0        105\n",
              "5.0               0          6\n",
              "Name: churn, dtype: int64"
            ]
          },
          "metadata": {},
          "execution_count": 8
        }
      ]
    },
    {
      "cell_type": "code",
      "source": [
        "churn = df[df['churn']==1].groupby('job_satisfaction')['churn'].count().reset_index()\n",
        "churn"
      ],
      "metadata": {
        "colab": {
          "base_uri": "https://localhost:8080/",
          "height": 175
        },
        "id": "eYi-U439veM_",
        "outputId": "c8a45da1-93f6-4e0a-8963-db2c21a4c046"
      },
      "id": "eYi-U439veM_",
      "execution_count": null,
      "outputs": [
        {
          "output_type": "execute_result",
          "data": {
            "text/plain": [
              "   job_satisfaction  churn\n",
              "0               0.0      2\n",
              "1               1.0     82\n",
              "2               2.0    207\n",
              "3               3.0     18"
            ],
            "text/html": [
              "\n",
              "  <div id=\"df-dcfd9946-9854-44f3-b99e-3cc26d60a2f0\">\n",
              "    <div class=\"colab-df-container\">\n",
              "      <div>\n",
              "<style scoped>\n",
              "    .dataframe tbody tr th:only-of-type {\n",
              "        vertical-align: middle;\n",
              "    }\n",
              "\n",
              "    .dataframe tbody tr th {\n",
              "        vertical-align: top;\n",
              "    }\n",
              "\n",
              "    .dataframe thead th {\n",
              "        text-align: right;\n",
              "    }\n",
              "</style>\n",
              "<table border=\"1\" class=\"dataframe\">\n",
              "  <thead>\n",
              "    <tr style=\"text-align: right;\">\n",
              "      <th></th>\n",
              "      <th>job_satisfaction</th>\n",
              "      <th>churn</th>\n",
              "    </tr>\n",
              "  </thead>\n",
              "  <tbody>\n",
              "    <tr>\n",
              "      <th>0</th>\n",
              "      <td>0.0</td>\n",
              "      <td>2</td>\n",
              "    </tr>\n",
              "    <tr>\n",
              "      <th>1</th>\n",
              "      <td>1.0</td>\n",
              "      <td>82</td>\n",
              "    </tr>\n",
              "    <tr>\n",
              "      <th>2</th>\n",
              "      <td>2.0</td>\n",
              "      <td>207</td>\n",
              "    </tr>\n",
              "    <tr>\n",
              "      <th>3</th>\n",
              "      <td>3.0</td>\n",
              "      <td>18</td>\n",
              "    </tr>\n",
              "  </tbody>\n",
              "</table>\n",
              "</div>\n",
              "      <button class=\"colab-df-convert\" onclick=\"convertToInteractive('df-dcfd9946-9854-44f3-b99e-3cc26d60a2f0')\"\n",
              "              title=\"Convert this dataframe to an interactive table.\"\n",
              "              style=\"display:none;\">\n",
              "        \n",
              "  <svg xmlns=\"http://www.w3.org/2000/svg\" height=\"24px\"viewBox=\"0 0 24 24\"\n",
              "       width=\"24px\">\n",
              "    <path d=\"M0 0h24v24H0V0z\" fill=\"none\"/>\n",
              "    <path d=\"M18.56 5.44l.94 2.06.94-2.06 2.06-.94-2.06-.94-.94-2.06-.94 2.06-2.06.94zm-11 1L8.5 8.5l.94-2.06 2.06-.94-2.06-.94L8.5 2.5l-.94 2.06-2.06.94zm10 10l.94 2.06.94-2.06 2.06-.94-2.06-.94-.94-2.06-.94 2.06-2.06.94z\"/><path d=\"M17.41 7.96l-1.37-1.37c-.4-.4-.92-.59-1.43-.59-.52 0-1.04.2-1.43.59L10.3 9.45l-7.72 7.72c-.78.78-.78 2.05 0 2.83L4 21.41c.39.39.9.59 1.41.59.51 0 1.02-.2 1.41-.59l7.78-7.78 2.81-2.81c.8-.78.8-2.07 0-2.86zM5.41 20L4 18.59l7.72-7.72 1.47 1.35L5.41 20z\"/>\n",
              "  </svg>\n",
              "      </button>\n",
              "      \n",
              "  <style>\n",
              "    .colab-df-container {\n",
              "      display:flex;\n",
              "      flex-wrap:wrap;\n",
              "      gap: 12px;\n",
              "    }\n",
              "\n",
              "    .colab-df-convert {\n",
              "      background-color: #E8F0FE;\n",
              "      border: none;\n",
              "      border-radius: 50%;\n",
              "      cursor: pointer;\n",
              "      display: none;\n",
              "      fill: #1967D2;\n",
              "      height: 32px;\n",
              "      padding: 0 0 0 0;\n",
              "      width: 32px;\n",
              "    }\n",
              "\n",
              "    .colab-df-convert:hover {\n",
              "      background-color: #E2EBFA;\n",
              "      box-shadow: 0px 1px 2px rgba(60, 64, 67, 0.3), 0px 1px 3px 1px rgba(60, 64, 67, 0.15);\n",
              "      fill: #174EA6;\n",
              "    }\n",
              "\n",
              "    [theme=dark] .colab-df-convert {\n",
              "      background-color: #3B4455;\n",
              "      fill: #D2E3FC;\n",
              "    }\n",
              "\n",
              "    [theme=dark] .colab-df-convert:hover {\n",
              "      background-color: #434B5C;\n",
              "      box-shadow: 0px 1px 3px 1px rgba(0, 0, 0, 0.15);\n",
              "      filter: drop-shadow(0px 1px 2px rgba(0, 0, 0, 0.3));\n",
              "      fill: #FFFFFF;\n",
              "    }\n",
              "  </style>\n",
              "\n",
              "      <script>\n",
              "        const buttonEl =\n",
              "          document.querySelector('#df-dcfd9946-9854-44f3-b99e-3cc26d60a2f0 button.colab-df-convert');\n",
              "        buttonEl.style.display =\n",
              "          google.colab.kernel.accessAllowed ? 'block' : 'none';\n",
              "\n",
              "        async function convertToInteractive(key) {\n",
              "          const element = document.querySelector('#df-dcfd9946-9854-44f3-b99e-3cc26d60a2f0');\n",
              "          const dataTable =\n",
              "            await google.colab.kernel.invokeFunction('convertToInteractive',\n",
              "                                                     [key], {});\n",
              "          if (!dataTable) return;\n",
              "\n",
              "          const docLinkHtml = 'Like what you see? Visit the ' +\n",
              "            '<a target=\"_blank\" href=https://colab.research.google.com/notebooks/data_table.ipynb>data table notebook</a>'\n",
              "            + ' to learn more about interactive tables.';\n",
              "          element.innerHTML = '';\n",
              "          dataTable['output_type'] = 'display_data';\n",
              "          await google.colab.output.renderOutput(dataTable, element);\n",
              "          const docLink = document.createElement('div');\n",
              "          docLink.innerHTML = docLinkHtml;\n",
              "          element.appendChild(docLink);\n",
              "        }\n",
              "      </script>\n",
              "    </div>\n",
              "  </div>\n",
              "  "
            ]
          },
          "metadata": {},
          "execution_count": 9
        }
      ]
    },
    {
      "cell_type": "code",
      "source": [
        "churn['job_satisfaction'] = churn['job_satisfaction'].astype(str)\n",
        "\n",
        "x = churn['job_satisfaction'].unique()\n",
        "y = churn['churn']\n",
        "bar_jc = plt.scatter(x, y, color='blue')\n",
        "\n",
        "plt.xlabel('Job Satisfaction')\n",
        "plt.ylabel('Churn')\n",
        "plt.title(\"Pengaruh kepuasan kerja terhadap pergantian karyawan\")\n",
        "\n",
        "plt.show()"
      ],
      "metadata": {
        "colab": {
          "base_uri": "https://localhost:8080/",
          "height": 295
        },
        "id": "tiGGOJTfwWis",
        "outputId": "f784d1cb-0b8a-47ec-b093-d37610faace8"
      },
      "id": "tiGGOJTfwWis",
      "execution_count": null,
      "outputs": [
        {
          "output_type": "display_data",
          "data": {
            "text/plain": [
              "<Figure size 432x288 with 1 Axes>"
            ],
            "image/png": "[encoded data removed]"
          },
          "metadata": {
            "needs_background": "light"
          }
        }
      ]
    },
    {
      "cell_type": "code",
      "source": [
        "df.groupby(['education_level', 'churn'])['churn'].count()\n",
        "\n",
        "churn = df[df['churn']==1].groupby('education_level')['churn'].count().reset_index()\n",
        "\n",
        "x = churn['education_level'].unique()\n",
        "y = churn['churn']\n",
        "bar_jc = plt.bar(x, y, color='blue', alpha=0.5)\n",
        "\n",
        "plt.xlabel('Job Satisfaction')\n",
        "plt.ylabel('Churn')\n",
        "plt.title(\"Pengaruh kepuasan kerja terhadap pergantian karyawan\")\n",
        "\n",
        "plt.show()"
      ],
      "metadata": {
        "colab": {
          "base_uri": "https://localhost:8080/",
          "height": 295
        },
        "id": "_fjnV717JtNg",
        "outputId": "f6ca7b95-7eab-496f-829a-260383be4a8e"
      },
      "id": "_fjnV717JtNg",
      "execution_count": null,
      "outputs": [
        {
          "output_type": "display_data",
          "data": {
            "text/plain": [
              "<Figure size 432x288 with 1 Axes>"
            ],
            "image/png": "[encoded data removed]"
          },
          "metadata": {
            "needs_background": "light"
          }
        }
      ]
    },
    {
      "cell_type": "code",
      "source": [
        "df[df['churn']==1].value_counts()"
      ],
      "metadata": {
        "colab": {
          "base_uri": "https://localhost:8080/"
        },
        "id": "RolF_WGwps8H",
        "outputId": "ecabf625-ecee-406a-8e7e-7f8e0c58462b"
      },
      "id": "RolF_WGwps8H",
      "execution_count": null,
      "outputs": [
        {
          "output_type": "execute_result",
          "data": {
            "text/plain": [
              "office_distance_from_house  bonus_salary_percentage  job_satisfaction  education_level   overtime_hour  company_latitude  company_longitude  gender  churn\n",
              "583.0                       42.41                    2.0               masters degree    2.158352       47.263911         -85.907794         0       1        1\n",
              "14124.0                     38.29                    2.0               bachelor/diploma  2.684185       36.186407         -78.765462         1       1        1\n",
              "14480.0                     34.52                    1.0               bachelor/diploma  3.869863       37.513877         -78.578724         0       1        1\n",
              "14445.0                     39.35                    2.0               bachelor/diploma  3.299109       39.802510         -83.896865         0       1        1\n",
              "14435.0                     46.11                    2.0               bachelor/diploma  3.675331       45.291324         -82.773492         1       1        1\n",
              "                                                                                                                                                             ..\n",
              "10354.0                     34.92                    1.0               bachelor/diploma  3.826542       38.078204         -78.609029         1       1        1\n",
              "10299.0                     33.62                    1.0               masters degree    3.730099       38.051296         -77.459425         0       1        1\n",
              "10244.0                     51.19                    2.0               bachelor/diploma  2.700241       42.886819         -86.593575         0       1        1\n",
              "10168.0                     45.19                    2.0               bachelor/diploma  2.486326       38.917875         -82.178011         1       1        1\n",
              "24786.0                     35.47                    2.0               high-school       3.289143       43.604157         -78.150664         1       1        1\n",
              "Length: 309, dtype: int64"
            ]
          },
          "metadata": {},
          "execution_count": 12
        }
      ]
    },
    {
      "cell_type": "code",
      "source": [
        "halo = df.groupby('job_satisfaction')['churn'].sum()\n",
        "halo"
      ],
      "metadata": {
        "colab": {
          "base_uri": "https://localhost:8080/"
        },
        "id": "MkFryuL1uCyh",
        "outputId": "bcbb3260-0ce6-43b5-a11a-0a2ec89524ae"
      },
      "id": "MkFryuL1uCyh",
      "execution_count": null,
      "outputs": [
        {
          "output_type": "execute_result",
          "data": {
            "text/plain": [
              "job_satisfaction\n",
              "0.0      2\n",
              "1.0     82\n",
              "2.0    207\n",
              "3.0     18\n",
              "4.0      0\n",
              "5.0      0\n",
              "Name: churn, dtype: int64"
            ]
          },
          "metadata": {},
          "execution_count": 13
        }
      ]
    },
    {
      "cell_type": "code",
      "source": [
        "x = df_churn1['job_satisfaction'].unique()\n",
        "y = df_churn1.groupby['job_satisfaction']('churn').sum()\n",
        "plot = plt.bar(x, y, color='blue', alpha=0.5)\n",
        "plt.show()"
      ],
      "metadata": {
        "colab": {
          "base_uri": "https://localhost:8080/",
          "height": 217
        },
        "id": "IdSnO5ccalZ4",
        "outputId": "4eae4501-dbc5-4614-8cae-379bad2ba893"
      },
      "id": "IdSnO5ccalZ4",
      "execution_count": null,
      "outputs": [
        {
          "output_type": "error",
          "ename": "NameError",
          "evalue": "ignored",
          "traceback": [
            "\u001b[0;31m---------------------------------------------------------------------------\u001b[0m",
            "\u001b[0;31mNameError\u001b[0m                                 Traceback (most recent call last)",
            "\u001b[0;32m<ipython-input-14-d8288b566d02>\u001b[0m in \u001b[0;36m<module>\u001b[0;34m\u001b[0m\n\u001b[0;32m----> 1\u001b[0;31m \u001b[0mx\u001b[0m \u001b[0;34m=\u001b[0m \u001b[0mdf_churn1\u001b[0m\u001b[0;34m[\u001b[0m\u001b[0;34m'job_satisfaction'\u001b[0m\u001b[0;34m]\u001b[0m\u001b[0;34m.\u001b[0m\u001b[0munique\u001b[0m\u001b[0;34m(\u001b[0m\u001b[0;34m)\u001b[0m\u001b[0;34m\u001b[0m\u001b[0;34m\u001b[0m\u001b[0m\n\u001b[0m\u001b[1;32m      2\u001b[0m \u001b[0my\u001b[0m \u001b[0;34m=\u001b[0m \u001b[0mdf_churn1\u001b[0m\u001b[0;34m.\u001b[0m\u001b[0mgroupby\u001b[0m\u001b[0;34m[\u001b[0m\u001b[0;34m'job_satisfaction'\u001b[0m\u001b[0;34m]\u001b[0m\u001b[0;34m(\u001b[0m\u001b[0;34m'churn'\u001b[0m\u001b[0;34m)\u001b[0m\u001b[0;34m.\u001b[0m\u001b[0msum\u001b[0m\u001b[0;34m(\u001b[0m\u001b[0;34m)\u001b[0m\u001b[0;34m\u001b[0m\u001b[0;34m\u001b[0m\u001b[0m\n\u001b[1;32m      3\u001b[0m \u001b[0mplot\u001b[0m \u001b[0;34m=\u001b[0m \u001b[0mplt\u001b[0m\u001b[0;34m.\u001b[0m\u001b[0mbar\u001b[0m\u001b[0;34m(\u001b[0m\u001b[0mx\u001b[0m\u001b[0;34m,\u001b[0m \u001b[0my\u001b[0m\u001b[0;34m,\u001b[0m \u001b[0mcolor\u001b[0m\u001b[0;34m=\u001b[0m\u001b[0;34m'blue'\u001b[0m\u001b[0;34m,\u001b[0m \u001b[0malpha\u001b[0m\u001b[0;34m=\u001b[0m\u001b[0;36m0.5\u001b[0m\u001b[0;34m)\u001b[0m\u001b[0;34m\u001b[0m\u001b[0;34m\u001b[0m\u001b[0m\n\u001b[1;32m      4\u001b[0m \u001b[0mplt\u001b[0m\u001b[0;34m.\u001b[0m\u001b[0mshow\u001b[0m\u001b[0;34m(\u001b[0m\u001b[0;34m)\u001b[0m\u001b[0;34m\u001b[0m\u001b[0;34m\u001b[0m\u001b[0m\n",
            "\u001b[0;31mNameError\u001b[0m: name 'df_churn1' is not defined"
          ]
        }
      ]
    },
    {
      "cell_type": "code",
      "source": [
        "x = df[\"job_satisfaction\"].unique()\n",
        "y = df['churn'].value_counts()[1]\n",
        "plot1 = plt.bar(x, y, color='blue', alpha=0.5)\n",
        "plt.show\n",
        "\n",
        "\"\"\"\n",
        "Karyawan dengan tingkat kepuasan kerja yang rendah cenderung \n",
        "\"\"\""
      ],
      "metadata": {
        "id": "iQOTT6SCFKTt"
      },
      "id": "iQOTT6SCFKTt",
      "execution_count": null,
      "outputs": []
    },
    {
      "cell_type": "code",
      "source": [
        "x = df['office_distance_from_house']\n",
        "plot_hist = plt.hist(x, bins=10, facecolor='r', alpha=0.5)\n",
        "plt.xlabel(\"jarak rumah ke kantor\")\n",
        "plt.ylabel(\"Total data\")\n",
        "plt.title(\"Histogram\")\n",
        "plt.show()"
      ],
      "metadata": {
        "id": "9yV5sTC91BdO"
      },
      "id": "9yV5sTC91BdO",
      "execution_count": null,
      "outputs": []
    },
    {
      "cell_type": "markdown",
      "source": [
        "#### Bonus salary dengan Job Satisfaction"
      ],
      "metadata": {
        "id": "OgsZQLzWQQmp"
      },
      "id": "OgsZQLzWQQmp"
    },
    {
      "cell_type": "code",
      "source": [
        "df[\"bonus_salary_percentage\"]"
      ],
      "metadata": {
        "colab": {
          "base_uri": "https://localhost:8080/"
        },
        "id": "GALgPBPDUq84",
        "outputId": "5cf7b59a-4cd4-4ee6-fa56-1290f5d1e303"
      },
      "id": "GALgPBPDUq84",
      "execution_count": null,
      "outputs": [
        {
          "output_type": "execute_result",
          "data": {
            "text/plain": [
              "pandas.core.series.Series"
            ]
          },
          "metadata": {},
          "execution_count": 19
        }
      ]
    },
    {
      "cell_type": "code",
      "source": [
        "sns.set_theme(style=\"ticks\")\n",
        "bonusJobsat = sns.catplot(x=\"job_satisfaction\", y=\"bonus_salary_percentage\", hue=\"churn\", data=df)\n",
        "bonusJobsat"
      ],
      "metadata": {
        "colab": {
          "base_uri": "https://localhost:8080/",
          "height": 382
        },
        "id": "ydMrkdekQgfe",
        "outputId": "5be506a4-ca4f-41b7-fd78-9adca7dc7696"
      },
      "id": "ydMrkdekQgfe",
      "execution_count": null,
      "outputs": [
        {
          "output_type": "execute_result",
          "data": {
            "text/plain": [
              "<seaborn.axisgrid.FacetGrid at 0x7fdb8d4b3450>"
            ]
          },
          "metadata": {},
          "execution_count": 29
        },
        {
          "output_type": "display_data",
          "data": {
            "text/plain": [
              "<Figure size 406.6x360 with 1 Axes>"
            ],
            "image/png": "[encoded data removed]"
          },
          "metadata": {}
        }
      ]
    },
    {
      "cell_type": "markdown",
      "id": "78a799a2",
      "metadata": {
        "id": "78a799a2"
      },
      "source": [
        "### Jawaban:"
      ]
    },
    {
      "cell_type": "markdown",
      "id": "89970123",
      "metadata": {
        "id": "89970123"
      },
      "source": [
        "#### Nomor 1."
      ]
    },
    {
      "cell_type": "markdown",
      "id": "9fdc5d9f",
      "metadata": {
        "id": "9fdc5d9f"
      },
      "source": [
        "Berikut adalah insights yang saya temui:\n",
        "- [contoh] Karyawan pria memiliki kecenderungan yang lebih tinggi untuk pindah perusahaan. Hal ini dapat dilihat dari ____. "
      ]
    },
    {
      "cell_type": "code",
      "execution_count": null,
      "id": "3a2589f7",
      "metadata": {
        "id": "3a2589f7"
      },
      "outputs": [],
      "source": []
    },
    {
      "cell_type": "markdown",
      "id": "1e023c1c",
      "metadata": {
        "id": "1e023c1c"
      },
      "source": [
        "#### Nomor 2."
      ]
    },
    {
      "cell_type": "markdown",
      "id": "8cb51f94",
      "metadata": {
        "id": "8cb51f94"
      },
      "source": [
        "- Saya melakukan __ pada kolom __ karena __. \n",
        "- Kemudian, saya melakukan __ pada kolom __ karena __. \n",
        "- dst"
      ]
    },
    {
      "cell_type": "code",
      "execution_count": null,
      "id": "56a05438",
      "metadata": {
        "id": "56a05438"
      },
      "outputs": [],
      "source": []
    },
    {
      "cell_type": "markdown",
      "id": "b653cf61",
      "metadata": {
        "id": "b653cf61"
      },
      "source": [
        "#### Nomor 3."
      ]
    },
    {
      "cell_type": "markdown",
      "id": "c02e6951",
      "metadata": {
        "id": "c02e6951"
      },
      "source": [
        "- False Positive dari kasus ini adalah __.\n",
        "- False Negative dari kasus ini adalah __.\n",
        "- Dalam kasus ini, tipe 'kesalahan' yang lebih penting untuk diperhatikan adalah __ karena __."
      ]
    },
    {
      "cell_type": "code",
      "execution_count": null,
      "id": "819cd031",
      "metadata": {
        "id": "819cd031"
      },
      "outputs": [],
      "source": []
    },
    {
      "cell_type": "markdown",
      "id": "2b74c6b2",
      "metadata": {
        "id": "2b74c6b2"
      },
      "source": [
        "#### Nomor 4."
      ]
    },
    {
      "cell_type": "markdown",
      "id": "32c2357b",
      "metadata": {
        "id": "32c2357b"
      },
      "source": [
        "- Saya menggunakan Machine Learning Model: __.\n",
        "- Untuk mengevaluasi model tersebut, saya menggunakan metrik: __, __, dst.\n",
        "- Hasil evaluasi dari model tersebut adalah sebagai berikut:\n",
        "    - [contoh]  RMSE: 90%\n",
        "    - [contoh]  MAE: 0.976"
      ]
    },
    {
      "cell_type": "code",
      "execution_count": null,
      "id": "3cb90af0",
      "metadata": {
        "id": "3cb90af0"
      },
      "outputs": [],
      "source": []
    },
    {
      "cell_type": "code",
      "execution_count": null,
      "id": "5ae670fe",
      "metadata": {
        "id": "5ae670fe"
      },
      "outputs": [],
      "source": []
    }
  ],
  "metadata": {
    "kernelspec": {
      "display_name": "Python 3 (ipykernel)",
      "language": "python",
      "name": "python3"
    },
    "language_info": {
      "codemirror_mode": {
        "name": "ipython",
        "version": 3
      },
      "file_extension": ".py",
      "mimetype": "text/x-python",
      "name": "python",
      "nbconvert_exporter": "python",
      "pygments_lexer": "ipython3",
      "version": "3.9.0"
    },
    "colab": {
      "name": "Studi Kasus Employee Churn.ipynb",
      "provenance": [],
      "collapsed_sections": [],
      "include_colab_link": true
    }
  },
  "nbformat": 4,
  "nbformat_minor": 5
}